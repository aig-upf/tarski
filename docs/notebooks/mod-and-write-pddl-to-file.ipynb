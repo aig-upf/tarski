{
 "cells": [
  {
   "cell_type": "markdown",
   "metadata": {},
   "source": [
    "# Modify and write PDDL to file"
   ]
  },
  {
   "cell_type": "markdown",
   "metadata": {},
   "source": [
    "This notebook shows how to read a PDDL domain and problem, extend the problem file and then write to a new file. "
   ]
  },
  {
   "cell_type": "markdown",
   "metadata": {},
   "source": [
    "## Import PDDL domain and problem "
   ]
  },
  {
   "cell_type": "code",
   "execution_count": null,
   "metadata": {},
   "outputs": [],
   "source": [
    "from tarski.io import PDDLReader, FstripsWriter\n",
    "\n",
    "# Assuming that you have these files on disk\n",
    "domain_file = \"domain.pddl\"\n",
    "problem_file = \"problem.pddl\"\n",
    "out_domain_file = \"domain_out.pddl\"\n",
    "out_problem_file = \"prob_out.pddl\"\n",
    "\n",
    "reader = PDDLReader(raise_on_error=True)\n",
    "\n",
    "reader.parse_domain(domain_file)\n",
    "problem = reader.parse_instance(problem_file)\n",
    "\n",
    "writer = FstripsWriter(problem)\n",
    "\n",
    "writer.write_instance(out_problem_file)\n",
    "print(\"Wrote problem file to\", out_problem_file)\n",
    "\n",
    "writer.write_domain(out_domain_file)\n",
    "print(\"Wrote domain file to\", out_domain_file)\n",
    "\n"
   ]
  },
  {
   "cell_type": "markdown",
   "metadata": {},
   "source": [
    "## Add predicates to your domain"
   ]
  },
  {
   "cell_type": "markdown",
   "metadata": {},
   "source": [
    "In this example we will add a block to the Blocksworld instance "
   ]
  },
  {
   "cell_type": "code",
   "execution_count": null,
   "metadata": {},
   "outputs": [],
   "source": [
    "lang = problem.language\n",
    "predicates = lang.predicates\n",
    "sorts = lang.sorts\n",
    "\n",
    "clear_pred = [pred for pred in predicates if pred.name == \"clear\"][0]\n",
    "block_name = \"b1\"\n",
    "lang.constant(block_name, sorts[0]) # Assuming there is only the \"Object\" type\n",
    "new_block = lang.get_constant(block_name)\n",
    "# Make the new block clear\n",
    "problem.init.add(clear_pred, new_block)\n"
   ]
  },
  {
   "cell_type": "markdown",
   "metadata": {},
   "source": [
    "## Generate PDDL without types\n",
    "\n",
    "By default Tarski will add types to the PDDL files, even if only the default `object` type is present. This can be removed by setting the parameter `no_types=True` in the Writer class"
   ]
  },
  {
   "cell_type": "code",
   "execution_count": null,
   "metadata": {},
   "outputs": [],
   "source": [
    "writer = FstripsWriter(problem, no_types=True)\n",
    "\n",
    "writer.write_instance(out_problem_file)\n",
    "print(\"Wrote problem file to\", out_problem_file)\n",
    "\n",
    "writer.write_domain(out_domain_file)\n",
    "print(\"Wrote domain file to\", out_domain_file)\n"
   ]
  }
 ],
 "metadata": {
  "language_info": {
   "name": "python"
  },
  "orig_nbformat": 4
 },
 "nbformat": 4,
 "nbformat_minor": 2
}
